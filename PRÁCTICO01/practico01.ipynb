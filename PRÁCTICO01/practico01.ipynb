{
 "cells": [
  {
   "cell_type": "markdown",
   "metadata": {},
   "source": [
    "# Regresion Lineal"
   ]
  },
  {
   "cell_type": "markdown",
   "metadata": {},
   "source": [
    "Prediccion de mejores valores de a y b en Regresion lineal "
   ]
  },
  {
   "cell_type": "markdown",
   "metadata": {},
   "source": [
    "Generacion de 100 datos de estaturas y pesos de personas"
   ]
  },
  {
   "cell_type": "code",
   "execution_count": 6,
   "metadata": {},
   "outputs": [
    {
     "name": "stdout",
     "output_type": "stream",
     "text": [
      "[(1.63, 71), (1.89, 80), (1.77, 72), (1.61, 68), (1.98, 108), (1.74, 82), (1.88, 91), (1.79, 76), (1.85, 79), (1.56, 47), (1.62, 68), (1.78, 82), (1.53, 58), (1.79, 75), (1.53, 52), (1.56, 47), (1.63, 72), (1.84, 90), (1.74, 77), (1.86, 81), (1.97, 89), (1.69, 73), (1.78, 74), (1.76, 79), (1.65, 63), (1.71, 62), (1.86, 87), (1.74, 82), (1.82, 77), (1.73, 64), (1.53, 63), (1.85, 88), (1.53, 56), (1.75, 84), (1.72, 76), (1.76, 69), (1.77, 86), (1.82, 86), (1.57, 63), (1.8, 77), (1.78, 87), (1.52, 57), (1.92, 96), (1.87, 95), (1.59, 61), (1.58, 57), (1.57, 53), (1.89, 82), (1.78, 69), (1.75, 76), (1.99, 89), (1.93, 88), (1.61, 71), (1.63, 58), (1.98, 96), (1.78, 75), (1.86, 94), (1.83, 91), (1.55, 56), (1.68, 59), (1.61, 65), (1.94, 103), (1.54, 47), (1.69, 73), (1.57, 64), (1.82, 89), (1.63, 72), (1.76, 71), (1.87, 79), (1.54, 44), (1.93, 83), (1.77, 70), (1.56, 59), (1.95, 101), (1.73, 71), (1.92, 95), (1.88, 81), (1.51, 56), (1.8, 84), (1.63, 60), (1.96, 102), (1.93, 85), (1.77, 68), (1.52, 54), (1.89, 87), (1.91, 88), (1.96, 92), (1.97, 101), (1.56, 63), (1.87, 82), (1.72, 67), (1.96, 94), (1.7, 61), (1.72, 63), (1.65, 70), (1.53, 48), (1.71, 65), (1.96, 101), (1.65, 70), (1.54, 49)]\n"
     ]
    }
   ],
   "source": [
    "import random\n",
    "\n",
    "def generarPeso(estatura):\n",
    "    if estatura > 1:\n",
    "        estaturaAjust = estatura * 100 - 100\n",
    "        peso = random.randint(int(estaturaAjust - 10), int(estaturaAjust + 10))\n",
    "    else:\n",
    "        peso = random.randint(8, 12)\n",
    "    return peso\n",
    "\n",
    "n = 100\n",
    "datos = [] \n",
    "\n",
    "for i in range(n):\n",
    "    estatura = round(random.uniform(1.5, 2.0),2)\n",
    "    peso = generarPeso(estatura)\n",
    "    datos.append((estatura, peso))\n",
    "\n",
    "estaturas = [x[0] for x in datos]\n",
    "pesos = [x[1] for x in datos]\n",
    "\n",
    "print(datos)"
   ]
  },
  {
   "cell_type": "markdown",
   "metadata": {},
   "source": [
    "Una vez teniendo los valores generados de estaturas y pesos inicializamos dos ciclos for para valores de \"a\" y \"b\"\n",
    "\n",
    "Aqui mismo vamos calculando el error absoluto y vamos actualizando en la variable errorMenor el menor error posible de las iteraciones con valores de \"a\" y \"b\""
   ]
  },
  {
   "cell_type": "code",
   "execution_count": 13,
   "metadata": {},
   "outputs": [
    {
     "name": "stdout",
     "output_type": "stream",
     "text": [
      "El menor error absoluto total es: 552.44\n",
      "Mejor valor de a: 88\n",
      "Mejor valor de b: -79\n"
     ]
    }
   ],
   "source": [
    "errorMenor = 1000\n",
    "for a in range(-100, 101):\n",
    "    for b in range(-100, 101):\n",
    "        \n",
    "        errorTotal = 0\n",
    "        for i in range(len(estaturas)):\n",
    "            Y = a * estaturas[i] + b\n",
    "            errorAbs = abs(pesos[i] - Y)\n",
    "            errorTotal += errorAbs\n",
    "\n",
    "        if errorTotal < errorMenor:\n",
    "            errorMenor = errorTotal\n",
    "            mejorA = a\n",
    "            mejorB = b\n",
    "\n",
    "print(f\"El menor error absoluto total es: {errorMenor}\")\n",
    "print(f\"Mejor valor de a: {mejorA}\")\n",
    "print(f\"Mejor valor de b: {mejorB}\")"
   ]
  },
  {
   "cell_type": "markdown",
   "metadata": {},
   "source": [
    "Se puede iterar mas valores de \"a\" y \"b\" para tener un mejor menor error, yo en este caso lo hice desde -100 hasta 100 solo para la demostración ya que tarda muchisimo en iterar "
   ]
  }
 ],
 "metadata": {
  "kernelspec": {
   "display_name": "base",
   "language": "python",
   "name": "python3"
  },
  "language_info": {
   "codemirror_mode": {
    "name": "ipython",
    "version": 3
   },
   "file_extension": ".py",
   "mimetype": "text/x-python",
   "name": "python",
   "nbconvert_exporter": "python",
   "pygments_lexer": "ipython3",
   "version": "3.12.4"
  }
 },
 "nbformat": 4,
 "nbformat_minor": 2
}
